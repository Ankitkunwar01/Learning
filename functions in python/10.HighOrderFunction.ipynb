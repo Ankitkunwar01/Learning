{
 "cells": [
  {
   "cell_type": "code",
   "execution_count": 2,
   "id": "fc97ab0a",
   "metadata": {},
   "outputs": [
    {
     "name": "stdout",
     "output_type": "stream",
     "text": [
      "The square of [1, 2, 3, 4, 5, 6, 7, 8, 9] is [1, 4, 9, 16, 25, 36, 49, 64, 81]\n"
     ]
    }
   ],
   "source": [
    "l = [1,2,3,4,5,6,7,8,9]\n",
    "\n",
    "def square(x):\n",
    "    return x**2\n",
    "\n",
    "def transform(f,l):\n",
    "    output = []\n",
    "    for i in l:\n",
    "        output.append(f(i))\n",
    "    return f\"The square of {l} is {output}\"\n",
    "    \n",
    "print(transform(square,l))"
   ]
  }
 ],
 "metadata": {
  "kernelspec": {
   "display_name": "Python 3",
   "language": "python",
   "name": "python3"
  },
  "language_info": {
   "codemirror_mode": {
    "name": "ipython",
    "version": 3
   },
   "file_extension": ".py",
   "mimetype": "text/x-python",
   "name": "python",
   "nbconvert_exporter": "python",
   "pygments_lexer": "ipython3",
   "version": "3.11.9"
  }
 },
 "nbformat": 4,
 "nbformat_minor": 5
}
