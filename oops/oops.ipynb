{
 "cells": [
  {
   "cell_type": "markdown",
   "id": "98d6860b",
   "metadata": {},
   "source": [
    "Create a class Person with attributes name and age. Create an object and print its attributes."
   ]
  },
  {
   "cell_type": "code",
   "execution_count": 10,
   "id": "0b49b334",
   "metadata": {},
   "outputs": [
    {
     "name": "stdout",
     "output_type": "stream",
     "text": [
      "name Ankit\n",
      "age 20\n"
     ]
    }
   ],
   "source": [
    "class Person:\n",
    "    def __init__(self,name,age):\n",
    "        self.name = \"Ankit\"\n",
    "        self.age = 20\n",
    "\n",
    "detail = Person(\"ankit\",20)\n",
    "print(\"name\",detail.name)\n",
    "print(\"age\",detail.age)\n",
    "\n"
   ]
  },
  {
   "cell_type": "markdown",
   "id": "fa8d066c",
   "metadata": {},
   "source": [
    "\n",
    "\n",
    "Create a class Rectangle with attributes length and width, and a method area() that returns the area."
   ]
  },
  {
   "cell_type": "code",
   "execution_count": 16,
   "id": "ef757b2a",
   "metadata": {},
   "outputs": [
    {
     "name": "stdout",
     "output_type": "stream",
     "text": [
      "rectangle: 8\n"
     ]
    }
   ],
   "source": [
    "class Area:\n",
    "    def __init__(self,length,width):\n",
    "        self.length= length\n",
    "        self.width = width\n",
    "    def area(self):\n",
    "        return self.length * self.width\n",
    "rec = Area(2,4)\n",
    "print(\"rectangle:\" ,rec.area())\n",
    "    "
   ]
  }
 ],
 "metadata": {
  "kernelspec": {
   "display_name": "Python 3 (ipykernel)",
   "language": "python",
   "name": "python3"
  },
  "language_info": {
   "codemirror_mode": {
    "name": "ipython",
    "version": 3
   },
   "file_extension": ".py",
   "mimetype": "text/x-python",
   "name": "python",
   "nbconvert_exporter": "python",
   "pygments_lexer": "ipython3",
   "version": "3.12.1"
  }
 },
 "nbformat": 4,
 "nbformat_minor": 5
}
