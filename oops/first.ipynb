{
 "cells": [
  {
   "cell_type": "markdown",
   "id": "fb6fb851",
   "metadata": {},
   "source": [
    " Simple ATM Machine in Python (OOP)simpl"
   ]
  },
  {
   "cell_type": "code",
   "execution_count": null,
   "id": "1ecb13ea",
   "metadata": {},
   "outputs": [
    {
     "name": "stdout",
     "output_type": "stream",
     "text": [
      "\n",
      "--- ATM Menu ---\n",
      "1. Check Balance\n",
      "2. Deposit\n",
      "3. Withdraw\n",
      "4. Change PIN\n",
      "5. Exit\n",
      "Thank you for using the ATM. Goodbye!\n"
     ]
    }
   ],
   "source": [
    "class ATM:\n",
    "    def __init__(self, balance=0, pin=1234):\n",
    "        self.balance = balance\n",
    "        self.pin = pin\n",
    "\n",
    "    def authenticate(self):\n",
    "        entered_pin = int(input(\"Enter your PIN: \"))\n",
    "        if entered_pin == self.pin:\n",
    "            return True\n",
    "        else:\n",
    "            print(\"Incorrect PIN.\")\n",
    "            return False\n",
    "\n",
    "    def check_balance(self):\n",
    "        print(f\"Your current balance is: ${self.balance}\")\n",
    "\n",
    "    def deposit(self):\n",
    "        amount = float(input(\"Enter amount to deposit: \"))\n",
    "        if amount > 0:\n",
    "            self.balance += amount\n",
    "            print(f\"${amount} deposited successfully.\")\n",
    "        else:\n",
    "            print(\"Invalid amount.\")\n",
    "\n",
    "    def withdraw(self):\n",
    "        amount = float(input(\"Enter amount to withdraw: \"))\n",
    "        if amount > self.balance:\n",
    "            print(\"Insufficient funds.\")\n",
    "        elif amount <= 0:\n",
    "            print(\"Invalid amount.\")\n",
    "        else:\n",
    "            self.balance -= amount\n",
    "            print(f\"${amount} withdrawn successfully.\")\n",
    "\n",
    "    def change_pin(self):\n",
    "        current_pin = int(input(\"Enter current PIN: \"))\n",
    "        if current_pin == self.pin:\n",
    "            new_pin = int(input(\"Enter new PIN: \"))\n",
    "            self.pin = new_pin\n",
    "            print(\"PIN changed successfully.\")\n",
    "        else:\n",
    "            print(\"Incorrect current PIN.\")\n",
    "\n",
    "    def run(self):\n",
    "        if not self.authenticate():\n",
    "            return\n",
    "        while True:\n",
    "            print(\"\\n--- ATM Menu ---\")\n",
    "            print(\"1. Check Balance\")\n",
    "            print(\"2. Deposit\")\n",
    "            print(\"3. Withdraw\")\n",
    "            print(\"4. Change PIN\")\n",
    "            print(\"5. Exit\")\n",
    "            choice = input(\"Select an option: \")\n",
    "\n",
    "            if choice == '1':\n",
    "                self.check_balance()\n",
    "            elif choice == '2':\n",
    "                self.deposit()\n",
    "            elif choice == '3':\n",
    "                self.withdraw()\n",
    "            elif choice == '4':\n",
    "                self.change_pin()\n",
    "            elif choice == '5':\n",
    "                print(\"Thank you for using the ATM. Goodbye!\")\n",
    "                break\n",
    "            else:\n",
    "                print(\"Invalid selection. Please try again.\")\n",
    "                \n",
    "\n",
    "# Create an ATM instance with a starting balance of $1000 and default PIN 1234\n",
    "atm = ATM(balance=1000)\n",
    "atm.run()\n"
   ]
  }
 ],
 "metadata": {
  "kernelspec": {
   "display_name": "Python 3 (ipykernel)",
   "language": "python",
   "name": "python3"
  },
  "language_info": {
   "codemirror_mode": {
    "name": "ipython",
    "version": 3
   },
   "file_extension": ".py",
   "mimetype": "text/x-python",
   "name": "python",
   "nbconvert_exporter": "python",
   "pygments_lexer": "ipython3",
   "version": "3.12.1"
  }
 },
 "nbformat": 4,
 "nbformat_minor": 5
}
